{
 "cells": [
  {
   "cell_type": "markdown",
   "metadata": {},
   "source": [
    "# COMPAS Analysis\n",
    "What follows are the calculations of the COMPAS Recidivism Risk Scores. These calculations are based on [ProPublica's analysis methodology](https://www.propublica.org/article/how-we-analyzed-the-compas-recidivism-algorithm/)."
   ]
  },
  {
   "cell_type": "markdown",
   "metadata": {},
   "source": [
    "## Loading the Data\n",
    "I select fields for severity of charge, number of priors, demographics, age, sex, compas scores, and whether each person was accused of a crime within two years."
   ]
  },
  {
   "cell_type": "code",
   "execution_count": 1,
   "metadata": {},
   "outputs": [],
   "source": [
    "%matplotlib inline\n",
    "\n",
    "import pandas as pd\n",
    "import numpy as np\n",
    "import matplotlib.pyplot as plt\n",
    "\n",
    "from sklearn.model_selection import train_test_split"
   ]
  },
  {
   "cell_type": "markdown",
   "metadata": {},
   "source": [
    "Following COMPAS ProPublica analysis, I will filter out rows where `days_b_screening_arrest` is over 30 or under -30, leaving us with 6,172 rows.\n",
    "\n",
    "Following Chouldechova (2017), I will also subset the observations only for `African-American` and `Causasian`. This leaves us with 5,278 rows."
   ]
  },
  {
   "cell_type": "markdown",
   "metadata": {},
   "source": [
    "The data loading and filtering can be found in the `compas_data.py`"
   ]
  },
  {
   "cell_type": "code",
   "execution_count": 2,
   "metadata": {},
   "outputs": [
    {
     "name": "stdout",
     "output_type": "stream",
     "text": [
      "\u001b[37m#!/usr/bin/env python\u001b[39;49;00m\n",
      "\u001b[37m# coding: utf-8\u001b[39;49;00m\n",
      "\n",
      "\u001b[34mdef\u001b[39;49;00m \u001b[32mload_data\u001b[39;49;00m():\n",
      "  \u001b[34mimport\u001b[39;49;00m \u001b[04m\u001b[36mpandas\u001b[39;49;00m \u001b[34mas\u001b[39;49;00m \u001b[04m\u001b[36mpd\u001b[39;49;00m\n",
      "  df = pd.read_csv(\u001b[33m'\u001b[39;49;00m\u001b[33mdata/compas-scores-two-years.csv\u001b[39;49;00m\u001b[33m'\u001b[39;49;00m, index_col=\u001b[34m0\u001b[39;49;00m)\n",
      "  df = df[(df[\u001b[33m'\u001b[39;49;00m\u001b[33mdays_b_screening_arrest\u001b[39;49;00m\u001b[33m'\u001b[39;49;00m] <= \u001b[34m30\u001b[39;49;00m) & (df[\u001b[33m'\u001b[39;49;00m\u001b[33mdays_b_screening_arrest\u001b[39;49;00m\u001b[33m'\u001b[39;49;00m] >= -\u001b[34m30\u001b[39;49;00m)]\n",
      "  df = df[(df[\u001b[33m'\u001b[39;49;00m\u001b[33mrace\u001b[39;49;00m\u001b[33m'\u001b[39;49;00m] == \u001b[33m'\u001b[39;49;00m\u001b[33mAfrican-American\u001b[39;49;00m\u001b[33m'\u001b[39;49;00m) | (df[\u001b[33m'\u001b[39;49;00m\u001b[33mrace\u001b[39;49;00m\u001b[33m'\u001b[39;49;00m] == \u001b[33m'\u001b[39;49;00m\u001b[33mCaucasian\u001b[39;49;00m\u001b[33m'\u001b[39;49;00m)]\n",
      "  \u001b[34mreturn\u001b[39;49;00m df\n",
      "\n",
      "\u001b[34mif\u001b[39;49;00m \u001b[31m__name__\u001b[39;49;00m == \u001b[33m'\u001b[39;49;00m\u001b[33m__main__\u001b[39;49;00m\u001b[33m'\u001b[39;49;00m:\n",
      "  load_data()\n"
     ]
    }
   ],
   "source": [
    "!pygmentize compas_data.py"
   ]
  },
  {
   "cell_type": "code",
   "execution_count": 3,
   "metadata": {},
   "outputs": [
    {
     "data": {
      "text/plain": [
       "(5278, 52)"
      ]
     },
     "execution_count": 3,
     "metadata": {},
     "output_type": "execute_result"
    }
   ],
   "source": [
    "from compas_data import load_data\n",
    "\n",
    "df = load_data()\n",
    "df.shape"
   ]
  },
  {
   "cell_type": "markdown",
   "metadata": {},
   "source": [
    "## Race Cross-tabulations"
   ]
  },
  {
   "cell_type": "markdown",
   "metadata": {},
   "source": [
    "This is an important cross-tabulation, because the `two_year_recid` is a *dummy* variable indicating wether the defendant recidivated or not in a two year time. "
   ]
  },
  {
   "cell_type": "code",
   "execution_count": 4,
   "metadata": {},
   "outputs": [
    {
     "data": {
      "text/html": [
       "<div>\n",
       "<style scoped>\n",
       "    .dataframe tbody tr th:only-of-type {\n",
       "        vertical-align: middle;\n",
       "    }\n",
       "\n",
       "    .dataframe tbody tr th {\n",
       "        vertical-align: top;\n",
       "    }\n",
       "\n",
       "    .dataframe thead th {\n",
       "        text-align: right;\n",
       "    }\n",
       "</style>\n",
       "<table border=\"1\" class=\"dataframe\">\n",
       "  <thead>\n",
       "    <tr style=\"text-align: right;\">\n",
       "      <th>two_year_recid</th>\n",
       "      <th>0</th>\n",
       "      <th>1</th>\n",
       "    </tr>\n",
       "    <tr>\n",
       "      <th>race</th>\n",
       "      <th></th>\n",
       "      <th></th>\n",
       "    </tr>\n",
       "  </thead>\n",
       "  <tbody>\n",
       "    <tr>\n",
       "      <th>African-American</th>\n",
       "      <td>1514</td>\n",
       "      <td>1661</td>\n",
       "    </tr>\n",
       "    <tr>\n",
       "      <th>Caucasian</th>\n",
       "      <td>1281</td>\n",
       "      <td>822</td>\n",
       "    </tr>\n",
       "  </tbody>\n",
       "</table>\n",
       "</div>"
      ],
      "text/plain": [
       "two_year_recid       0     1\n",
       "race                        \n",
       "African-American  1514  1661\n",
       "Caucasian         1281   822"
      ]
     },
     "execution_count": 4,
     "metadata": {},
     "output_type": "execute_result"
    }
   ],
   "source": [
    "ct1 = pd.crosstab(df['race'], df['two_year_recid'])\n",
    "ct1"
   ]
  },
  {
   "cell_type": "code",
   "execution_count": 5,
   "metadata": {},
   "outputs": [
    {
     "data": {
      "image/png": "[encoded data removed]",
      "text/plain": [
       "<Figure size 432x288 with 1 Axes>"
      ]
     },
     "metadata": {
      "needs_background": "light"
     },
     "output_type": "display_data"
    }
   ],
   "source": [
    "ct1.plot.bar(stacked=True, rot=45)\n",
    "plt.legend(['No', 'Yes'], title='Two Year Recidivism')\n",
    "plt.savefig('images/two_year_recid.png', dpi=300)\n",
    "plt.show()"
   ]
  },
  {
   "cell_type": "markdown",
   "metadata": {},
   "source": [
    "As demonstrated, the data does not show a parity between african-americans and caucasians in recidivism rate"
   ]
  },
  {
   "cell_type": "code",
   "execution_count": 6,
   "metadata": {},
   "outputs": [
    {
     "data": {
      "text/html": [
       "<div>\n",
       "<style scoped>\n",
       "    .dataframe tbody tr th:only-of-type {\n",
       "        vertical-align: middle;\n",
       "    }\n",
       "\n",
       "    .dataframe tbody tr th {\n",
       "        vertical-align: top;\n",
       "    }\n",
       "\n",
       "    .dataframe thead th {\n",
       "        text-align: right;\n",
       "    }\n",
       "</style>\n",
       "<table border=\"1\" class=\"dataframe\">\n",
       "  <thead>\n",
       "    <tr style=\"text-align: right;\">\n",
       "      <th>score_text</th>\n",
       "      <th>High</th>\n",
       "      <th>Low</th>\n",
       "      <th>Medium</th>\n",
       "    </tr>\n",
       "    <tr>\n",
       "      <th>race</th>\n",
       "      <th></th>\n",
       "      <th></th>\n",
       "      <th></th>\n",
       "    </tr>\n",
       "  </thead>\n",
       "  <tbody>\n",
       "    <tr>\n",
       "      <th>African-American</th>\n",
       "      <td>845</td>\n",
       "      <td>1346</td>\n",
       "      <td>984</td>\n",
       "    </tr>\n",
       "    <tr>\n",
       "      <th>Caucasian</th>\n",
       "      <td>223</td>\n",
       "      <td>1407</td>\n",
       "      <td>473</td>\n",
       "    </tr>\n",
       "  </tbody>\n",
       "</table>\n",
       "</div>"
      ],
      "text/plain": [
       "score_text        High   Low  Medium\n",
       "race                                \n",
       "African-American   845  1346     984\n",
       "Caucasian          223  1407     473"
      ]
     },
     "execution_count": 6,
     "metadata": {},
     "output_type": "execute_result"
    }
   ],
   "source": [
    "ct2 = pd.crosstab(df['race'], df['score_text'])\n",
    "ct2"
   ]
  },
  {
   "cell_type": "code",
   "execution_count": 7,
   "metadata": {},
   "outputs": [
    {
     "data": {
      "image/png": "[encoded data removed]",
      "text/plain": [
       "<Figure size 432x288 with 1 Axes>"
      ]
     },
     "metadata": {
      "needs_background": "light"
     },
     "output_type": "display_data"
    }
   ],
   "source": [
    "ct2.plot.bar(stacked=True, rot=45)\n",
    "plt.legend(title='COMPAS Risk Score')\n",
    "plt.savefig('images/risk_score.png', dpi=300)\n",
    "plt.show()"
   ]
  },
  {
   "cell_type": "markdown",
   "metadata": {},
   "source": [
    "Also african-americans have way more high risk compared to causasians"
   ]
  },
  {
   "cell_type": "markdown",
   "metadata": {},
   "source": [
    "## ProPublica Data Processing\n",
    "\n",
    "According to Larson et al. (2016), the ProPublica's Angwin et al. (2016) methodology used only a subset of variables with the following processing:\n",
    "\n",
    "* Dependent Variable `score_factor` based of `v_score_text`:\n",
    "    * 0 = `Low`\n",
    "    * 1 = `Medium + High`\n",
    "\n",
    "* Independents Variables:\n",
    "    * `sex_female`: 0 Male, 1 Female\n",
    "    * `age_less_25`: 0 More Than 25, 1 Less than 25\n",
    "    * `age_more_45`: 0 Less Than 45, 1 More than 45\n",
    "    * `race_black`: 0 White, 1 Black\n",
    "    * `priors_count`\n",
    "    * `crime_M`: based on `c_charge_degree`: Description of the original criminal charge (0 is F Felony, 1 is M Misdemeanor)"
   ]
  },
  {
   "cell_type": "code",
   "execution_count": 8,
   "metadata": {},
   "outputs": [],
   "source": [
    "df['score_factor'] = np.where(df['v_score_text'] == 'Low', 0, 1)\n",
    "df['sex_female'] = np.where(df['sex'] == 'Female', 1, 0)\n",
    "df['age_less_25'] = np.where(df['age_cat'] == 'Less than 25', 1, 0)\n",
    "df['age_more_45'] = np.where(df['age_cat'] == 'Greater than 45', 1, 0)\n",
    "df['race_black'] = np.where(df['race'] == 'African-American', 1, 0)\n",
    "df['crime_M'] = np.where(df['c_charge_degree'] == 'M', 1, 0)"
   ]
  },
  {
   "cell_type": "markdown",
   "metadata": {},
   "source": [
    "### ProPublica's Logistic Regression Model\n",
    "\n",
    "ProPublica used the following logistic regression formula using the `stats` R package function `glm`:\n",
    "\n",
    "`glm(formula = score_factor ~ gender_factor + age_factor + race_factor + priors_count + crime_factor + two_year_recid, family = \"binomial\", data = df)`\n",
    "\n",
    "This formula is to assess how an individual risk is classified (`Low` or `Medium + High` `score_factor`) controlling for real recidivism rate (`two_year_recid`)"
   ]
  },
  {
   "cell_type": "markdown",
   "metadata": {},
   "source": [
    "## Subsetting the Data\n",
    "\n",
    "Only selecting ProPublica's variable to the model"
   ]
  },
  {
   "cell_type": "code",
   "execution_count": 9,
   "metadata": {},
   "outputs": [
    {
     "data": {
      "text/plain": [
       "Index(['name', 'first', 'last', 'compas_screening_date', 'sex', 'dob', 'age',\n",
       "       'age_cat', 'race', 'juv_fel_count', 'decile_score', 'juv_misd_count',\n",
       "       'juv_other_count', 'priors_count', 'days_b_screening_arrest',\n",
       "       'c_jail_in', 'c_jail_out', 'c_case_number', 'c_offense_date',\n",
       "       'c_arrest_date', 'c_days_from_compas', 'c_charge_degree',\n",
       "       'c_charge_desc', 'is_recid', 'r_case_number', 'r_charge_degree',\n",
       "       'r_days_from_arrest', 'r_offense_date', 'r_charge_desc', 'r_jail_in',\n",
       "       'r_jail_out', 'violent_recid', 'is_violent_recid', 'vr_case_number',\n",
       "       'vr_charge_degree', 'vr_offense_date', 'vr_charge_desc',\n",
       "       'type_of_assessment', 'decile_score.1', 'score_text', 'screening_date',\n",
       "       'v_type_of_assessment', 'v_decile_score', 'v_score_text',\n",
       "       'v_screening_date', 'in_custody', 'out_custody', 'priors_count.1',\n",
       "       'start', 'end', 'event', 'two_year_recid', 'score_factor', 'sex_female',\n",
       "       'age_less_25', 'age_more_45', 'race_black', 'crime_M'],\n",
       "      dtype='object')"
      ]
     },
     "execution_count": 9,
     "metadata": {},
     "output_type": "execute_result"
    }
   ],
   "source": [
    "df.columns"
   ]
  },
  {
   "cell_type": "code",
   "execution_count": 10,
   "metadata": {},
   "outputs": [],
   "source": [
    "variables=['two_year_recid', 'sex_female', 'score_factor',\n",
    "           'age_less_25', 'age_more_45',\n",
    "           'race_black', 'crime_M', 'priors_count']\n",
    "target=['score_factor']"
   ]
  },
  {
   "cell_type": "code",
   "execution_count": 11,
   "metadata": {},
   "outputs": [],
   "source": [
    "X = df[variables]\n",
    "y = df[target]"
   ]
  },
  {
   "cell_type": "code",
   "execution_count": 12,
   "metadata": {},
   "outputs": [
    {
     "data": {
      "text/plain": [
       "(5278, 8)"
      ]
     },
     "execution_count": 12,
     "metadata": {},
     "output_type": "execute_result"
    }
   ],
   "source": [
    "X.shape"
   ]
  },
  {
   "cell_type": "markdown",
   "metadata": {},
   "source": [
    "## Splitting Between Train, Validation and Test Datasets\n",
    "\n",
    "Using a random seed for replicability and also using 0.25 as validation/test size "
   ]
  },
  {
   "cell_type": "code",
   "execution_count": 13,
   "metadata": {},
   "outputs": [],
   "source": [
    "X_train, X_test, y_train, y_test = train_test_split(X, y,\n",
    "                                                    test_size=0.25,\n",
    "                                                    random_state=123)"
   ]
  },
  {
   "cell_type": "code",
   "execution_count": 14,
   "metadata": {},
   "outputs": [],
   "source": [
    "X_train, X_val, y_train, y_val = train_test_split(X_train, y_train,\n",
    "                                                  test_size=0.25,\n",
    "                                                  random_state=123)"
   ]
  },
  {
   "cell_type": "code",
   "execution_count": 15,
   "metadata": {},
   "outputs": [
    {
     "name": "stdout",
     "output_type": "stream",
     "text": [
      "Train size:  (2968, 8)\n",
      "Validation size:  (990, 8)\n",
      "Test size:  (1320, 8)\n"
     ]
    }
   ],
   "source": [
    "print('Train size: ', X_train.shape)\n",
    "print('Validation size: ', X_val.shape)\n",
    "print('Test size: ', X_test.shape)"
   ]
  },
  {
   "cell_type": "markdown",
   "metadata": {},
   "source": [
    "## Saving `.csv` files\n",
    "\n",
    "I use `pandas` to save our test, train and validation data to csv files. Note that I have to make sure not to include header information or an index as this is required by the built in algorithms provided by Amazon. Also, for the train and validation data, it is assumed that the first entry in each row is the target variable."
   ]
  },
  {
   "cell_type": "code",
   "execution_count": 16,
   "metadata": {},
   "outputs": [],
   "source": [
    "# Train\n",
    "pd.concat([y_train, X_train], axis=1).to_csv('data/train.csv',\n",
    "                                             header=False, index=False)\n",
    "# Validation\n",
    "pd.concat([y_val, X_val], axis=1).to_csv('data/val.csv',\n",
    "                                         header=False, index=False)\n",
    "# Test\n",
    "X_test.to_csv('data/X_test.csv', header=False, index=False)\n",
    "y_test.to_csv('data/y_test.csv', header=False, index=False)"
   ]
  },
  {
   "cell_type": "markdown",
   "metadata": {},
   "source": [
    "# References\n",
    "\n",
    "Angwin, J., Larson, J., Mattu, S., & Kirchner, L. (2016). Machine Bias: there’s software used across the country to predict future criminals. And it’s biased against blacks. ProPublica. https://www.propublica.org/article/machine-bias-risk-assessments-in-criminal-sentencing\n",
    "\n",
    "Chouldechova, A. (2017). Fair Prediction with Disparate Impact: A Study of Bias in Recidivism Prediction Instruments. Big Data, 5(2), 153–163. https://doi.org/10.1089/big.2016.0047\n",
    "\n",
    "Larson, J., Mattu, S., Kirchner, L., & Angwin, J. (2016). How we analyzed the COMPAS recidivism algorithm. ProPublica. https://www.propublica.org/article/how-we-analyzed-the-compas-recidivism-algorithm"
   ]
  }
 ],
 "metadata": {
  "kernelspec": {
   "display_name": "Python 3",
   "language": "python",
   "name": "python3"
  },
  "language_info": {
   "codemirror_mode": {
    "name": "ipython",
    "version": 3
   },
   "file_extension": ".py",
   "mimetype": "text/x-python",
   "name": "python",
   "nbconvert_exporter": "python",
   "pygments_lexer": "ipython3",
   "version": "3.7.7"
  }
 },
 "nbformat": 4,
 "nbformat_minor": 4
}
